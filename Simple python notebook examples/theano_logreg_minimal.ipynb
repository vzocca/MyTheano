{
 "cells": [
  {
   "cell_type": "markdown",
   "metadata": {},
   "source": [
    "## A minimal logist regression example"
   ]
  },
  {
   "cell_type": "code",
   "execution_count": null,
   "metadata": {
    "collapsed": false
   },
   "outputs": [],
   "source": [
    "import theano\n",
    "import theano.tensor as T\n",
    "import numpy as np\n",
    "rng = np.random\n",
    "\n",
    "import matplotlib.pyplot as plt\n",
    "\n",
    "#rng = np.random.RandomState(0)\n",
    "\n",
    "ninputs = 100\n",
    "nfeatures = 784\n",
    "noutputs = 10\n",
    "\n",
    "#training rate\n",
    "tr_rate = 0.1 \n",
    "training_steps = 100\n",
    "\n",
    "D = (rng.randn(ninputs, nfeatures), rng.randint(size=ninputs, low=0, high=noutputs))\n",
    "\n",
    "# Feed-forward\n",
    "x = T.dmatrix('x')\n",
    "t = T.ivector('t')\n",
    "\n",
    "w = theano.shared(rng.randn(nfeatures, noutputs), name=\"w\")\n",
    "b = theano.shared(np.full(noutputs, 0.01), name=\"b\")\n",
    "sigma = T.nnet.softmax(T.dot(x,w) + b) \n",
    "prediction = T.argmax(sigma, axis=1)   \n",
    "\n",
    "\n",
    "parameters = [w, b]\n",
    "\n",
    "xent = -T.mean(T.log(sigma)[T.arange(t.shape[0]), t])          # Cost function\n",
    "    \n",
    "cost = xent.mean() + 0.01 * (w ** 2).sum()                     # Regularisation \n",
    "\n",
    "gparameters = [T.grad(cost, param) for param in parameters]    # Compute the gradient of the cost \n",
    " \n",
    "pars = zip(parameters, gparameters)\n",
    "\n",
    "train = theano.function(\n",
    "          inputs=[x,t],\n",
    "          outputs=[xent],\n",
    "          updates = [(param, param - tr_rate * gparam) for param, gparam in zip(parameters, gparameters)],\n",
    "          allow_input_downcast = True )\n",
    "\n",
    "\n",
    "predict = theano.function(inputs=[x], outputs=prediction)\n",
    "\n",
    "# Train\n",
    "for i in range(training_steps):\n",
    "    train(D[0], D[1])\n",
    "  \n",
    "\n",
    "result = predict(D[0]) - D[1]\n",
    "\n",
    "N = ninputs\n",
    "\n",
    "error = 0\n",
    "for index in range(N):\n",
    "    if result[index] != 0:\n",
    "        error += 1\n",
    "        \n",
    "correct_guesses = N - error\n",
    "accuracy = (N - error)*100./N\n",
    "\n",
    "print\n",
    "print \"correct predictions = %f over %i examples\" % (correct_guesses, N)\n",
    "print \"accuracy = %f%%\" % accuracy\n",
    "\n",
    "\n",
    "#p = predict(D[0])  \n",
    "#plt.plot(D[1], 'ro')\n",
    "#plt.plot(p, 'bo')\n",
    "#plt.axis([-1, N+1, -1, 10])\n",
    "\n",
    "#plt.show()"
   ]
  }
 ],
 "metadata": {
  "kernelspec": {
   "display_name": "Python 2",
   "language": "python",
   "name": "python2"
  },
  "language_info": {
   "codemirror_mode": {
    "name": "ipython",
    "version": 2
   },
   "file_extension": ".py",
   "mimetype": "text/x-python",
   "name": "python",
   "nbconvert_exporter": "python",
   "pygments_lexer": "ipython2",
   "version": "2.7.11"
  }
 },
 "nbformat": 4,
 "nbformat_minor": 0
}
