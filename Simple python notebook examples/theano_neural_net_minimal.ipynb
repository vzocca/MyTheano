{
 "cells": [
  {
   "cell_type": "markdown",
   "metadata": {},
   "source": [
    "## A minimal neural nets with hiddel layer example"
   ]
  },
  {
   "cell_type": "code",
   "execution_count": null,
   "metadata": {
    "collapsed": false
   },
   "outputs": [],
   "source": [
    "import theano\n",
    "import theano.tensor as T\n",
    "import numpy as np\n",
    "rng = np.random\n",
    "\n",
    "ninputs = 100\n",
    "nfeatures = 784\n",
    "noutputs = 10\n",
    "nhiddens = 20\n",
    "\n",
    "#training rate\n",
    "tr_rate = 0.1 \n",
    "# number of training steps\n",
    "training_steps = 1000\n",
    "\n",
    "D = (rng.randn(ninputs, nfeatures), rng.randint(size=ninputs, low=0, high=noutputs))\n",
    "\n",
    "# Feed-forward\n",
    "rng = np.random.RandomState(0)\n",
    "x = T.dmatrix('x')\n",
    "t = T.ivector('t')\n",
    "\n",
    "wh = theano.shared(rng.normal(0, 1, (nfeatures, nhiddens)), borrow=True)\n",
    "bh = theano.shared(np.zeros(nhiddens), borrow=True)\n",
    "h =  T.nnet.sigmoid(T.dot(x, wh) + bh)\n",
    "\n",
    "wy = theano.shared(rng.normal(0, 1, (nhiddens, noutputs)), borrow = True)\n",
    "by = theano.shared(np.zeros(noutputs), borrow=True)\n",
    "y =  T.nnet.softmax(T.dot(h, wy) + by)\n",
    "\n",
    "prediction = T.argmax(y, axis=1)\n",
    "\n",
    "parameters = [wh, bh, wy, by]\n",
    "\n",
    "# Backprop \n",
    "# xent = -t * T.log(y) - (1-t) * T.log(1-y)         # Cross-entropy loss function\n",
    "xent = -T.mean(T.log(y)[T.arange(t.shape[0]), t])\n",
    "cost = xent.mean() + 0.01 * (wh ** 2).sum() + 0.01 * (wy ** 2).sum()         # Regularisation\n",
    "                 \n",
    "gparameters = [T.grad(cost, param) for param in parameters] # Compute the gradient of the cost    \n",
    " \n",
    "# Compile\n",
    "train = theano.function(\n",
    "          inputs=[x,t],\n",
    "          outputs=[prediction, xent],\n",
    "          updates=[(param, param - tr_rate * gparam) for param, gparam in zip(parameters, gparameters)],\n",
    "          allow_input_downcast=True)\n",
    "\n",
    "predict = theano.function(inputs=[x], outputs=prediction)\n",
    "\n",
    "# Train\n",
    "for i in range(training_steps):\n",
    "    pred, err = train(D[0], D[1])\n",
    "    \n",
    "result = predict(D[0]) - D[1]\n",
    "\n",
    "N = ninputs\n",
    "\n",
    "error = 0\n",
    "for index in range(N):\n",
    "    if result[index] != 0:\n",
    "        error += 1\n",
    "        \n",
    "correct_guesses = N - error\n",
    "accuracy = (N - error)*100/N\n",
    "\n",
    "print\n",
    "print \"correct predictions = %f over %i examples\" % (correct_guesses, N)\n",
    "print \"accuracy = %i%%\" % accuracy"
   ]
  }
 ],
 "metadata": {
  "kernelspec": {
   "display_name": "Python 2",
   "language": "python",
   "name": "python2"
  },
  "language_info": {
   "codemirror_mode": {
    "name": "ipython",
    "version": 2
   },
   "file_extension": ".py",
   "mimetype": "text/x-python",
   "name": "python",
   "nbconvert_exporter": "python",
   "pygments_lexer": "ipython2",
   "version": "2.7.11"
  }
 },
 "nbformat": 4,
 "nbformat_minor": 0
}
